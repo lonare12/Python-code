{
 "cells": [
  {
   "cell_type": "markdown",
   "id": "f84b6153",
   "metadata": {},
   "source": [
    "#### Given number is even or odd"
   ]
  },
  {
   "cell_type": "code",
   "execution_count": 1,
   "id": "5d6c1909",
   "metadata": {},
   "outputs": [
    {
     "name": "stdout",
     "output_type": "stream",
     "text": [
      "Enter number 67\n",
      "odd number\n"
     ]
    }
   ],
   "source": [
    "num=int(input(\"Enter number \"))\n",
    "if (num%2)==0:\n",
    "    print(\"even number\")\n",
    "else:\n",
    "    print(\"odd number\")"
   ]
  },
  {
   "cell_type": "markdown",
   "id": "204c77d5",
   "metadata": {},
   "source": [
    "### Alphabet is a vowel or consonant"
   ]
  },
  {
   "cell_type": "code",
   "execution_count": 2,
   "id": "8413c744",
   "metadata": {},
   "outputs": [
    {
     "name": "stdout",
     "output_type": "stream",
     "text": [
      "Enter alphabet i\n",
      "i is a vowel\n"
     ]
    }
   ],
   "source": [
    "x=str(input(\"Enter alphabet \"))\n",
    "if x=='a' or x=='e' or x=='i' or x=='o' or x=='u':\n",
    "    print(x,\"is a vowel\")\n",
    "else:\n",
    "    print(x,\"is a consonant\")"
   ]
  },
  {
   "cell_type": "markdown",
   "id": "e7d1b7fa",
   "metadata": {},
   "source": [
    "### Person is eligible to vote or not"
   ]
  },
  {
   "cell_type": "code",
   "execution_count": 6,
   "id": "46ea89cc",
   "metadata": {},
   "outputs": [
    {
     "name": "stdout",
     "output_type": "stream",
     "text": [
      "enter age 19\n",
      "eligible for vote\n"
     ]
    }
   ],
   "source": [
    "age=int(input(\"enter age \"))\n",
    "if age >=18:\n",
    "    print(\"eligible for vote\")\n",
    "else:\n",
    "    print(\"Not eligible for vote\")"
   ]
  },
  {
   "cell_type": "markdown",
   "id": "7de0b2a6",
   "metadata": {},
   "source": [
    "#### Given number is positive,negative or zero"
   ]
  },
  {
   "cell_type": "code",
   "execution_count": 7,
   "id": "0838a502",
   "metadata": {},
   "outputs": [
    {
     "name": "stdout",
     "output_type": "stream",
     "text": [
      "Input a number: 9\n",
      "It is positive number\n"
     ]
    }
   ],
   "source": [
    "num = int(input(\"Input a number: \"))\n",
    "if num > 0:\n",
    "    print(\"It is positive number\")\n",
    "elif num == 0:\n",
    "    print(\"It is Zero\")\n",
    "else:\n",
    "    print(\"It is a negative number\")\n",
    "   "
   ]
  },
  {
   "cell_type": "markdown",
   "id": "77c6eb92",
   "metadata": {},
   "source": [
    "### Given year is leap year or not"
   ]
  },
  {
   "cell_type": "code",
   "execution_count": 17,
   "id": "dca37f95",
   "metadata": {},
   "outputs": [
    {
     "name": "stdout",
     "output_type": "stream",
     "text": [
      "Enter a year: 2025\n",
      "is not leap year 2025\n"
     ]
    }
   ],
   "source": [
    "year=int(input(\"Enter a year: \"))\n",
    "if(year % 4==0)and (year%100!=0 or year% 400==0):\n",
    "    print(\"is a leap year\",year)\n",
    "else:\n",
    "    print(\"is not leap year\",year)"
   ]
  },
  {
   "cell_type": "markdown",
   "id": "273a5d53",
   "metadata": {},
   "source": [
    "#### Triangle is eqilateral, isosceles or scalens."
   ]
  },
  {
   "cell_type": "code",
   "execution_count": 17,
   "id": "c3f52b55",
   "metadata": {},
   "outputs": [
    {
     "name": "stdout",
     "output_type": "stream",
     "text": [
      "x: 8\n",
      "y: 8\n",
      "z: 9\n",
      "isosceles triangle\n"
     ]
    }
   ],
   "source": [
    "x = int(input(\"x: \"))\n",
    "y = int(input(\"y: \"))\n",
    "z = int(input(\"z: \"))\n",
    "\n",
    "if x == y == z:\n",
    "    print(\"Equilateral triangle\")\n",
    "elif x==y or y==z or z==x:\n",
    "    print(\"isosceles triangle\")\n",
    "else:\n",
    "    print(\"Scalene triangle\")"
   ]
  },
  {
   "cell_type": "markdown",
   "id": "d16080a2",
   "metadata": {},
   "source": [
    "#### To check whether after selling a product its profit or loss."
   ]
  },
  {
   "cell_type": "code",
   "execution_count": 18,
   "id": "7b1da3e7",
   "metadata": {},
   "outputs": [
    {
     "name": "stdout",
     "output_type": "stream",
     "text": [
      "Enter cost price: 500\n",
      "Enter selling price: 300\n",
      "sorry,you incurred a loss 200\n"
     ]
    }
   ],
   "source": [
    "cost_price=int(input(\"Enter cost price: \"))\n",
    "selling_price=int(input(\"Enter selling price: \"))\n",
    "\n",
    "profit=selling_price-cost_price\n",
    "loss=cost_price-selling_price\n",
    "if selling_price>cost_price:\n",
    "    print(\"congratulations! you made a profit\",profit)\n",
    "elif selling_price<cost_price:\n",
    "    print(\"sorry,you incurred a loss\",loss)\n",
    "else:\n",
    "    print(\"you neither made a profit nor loss\")"
   ]
  },
  {
   "cell_type": "markdown",
   "id": "731d011d",
   "metadata": {},
   "source": [
    "#### Write a program to enter two numbers and print the greatest number."
   ]
  },
  {
   "cell_type": "code",
   "execution_count": 2,
   "id": "4811e162",
   "metadata": {},
   "outputs": [
    {
     "name": "stdout",
     "output_type": "stream",
     "text": [
      "70\n"
     ]
    }
   ],
   "source": [
    "num1=50\n",
    "num2=70\n",
    "if num1>num2:\n",
    "  print(num1)\n",
    "else:\n",
    "  print(num2)"
   ]
  },
  {
   "cell_type": "markdown",
   "id": "54a8171d",
   "metadata": {},
   "source": [
    "#### Write a program to enter two numbers and print the smallest number."
   ]
  },
  {
   "cell_type": "code",
   "execution_count": 3,
   "id": "310d9c23",
   "metadata": {},
   "outputs": [
    {
     "name": "stdout",
     "output_type": "stream",
     "text": [
      "10\n"
     ]
    }
   ],
   "source": [
    "num1=10\n",
    "num2=70\n",
    "if num1<num2:\n",
    "    print(num1)\n",
    "else:\n",
    "    print(num2)"
   ]
  },
  {
   "cell_type": "markdown",
   "id": "9f5eee15",
   "metadata": {},
   "source": [
    "#### Write a program to enter three numbers and print the greatest number."
   ]
  },
  {
   "cell_type": "code",
   "execution_count": 4,
   "id": "47248574",
   "metadata": {},
   "outputs": [
    {
     "name": "stdout",
     "output_type": "stream",
     "text": [
      "The greatest number is 20\n"
     ]
    }
   ],
   "source": [
    "num1=16\n",
    "num2=10\n",
    "num3=20\n",
    "if (num1 >= num2) and (num1 >= num3):\n",
    "   greatest = num1\n",
    "elif (num2 >= num1) and (num2 >= num3):\n",
    "   greatest = num2\n",
    "else:\n",
    "   greatest = num3\n",
    "\n",
    "print(\"The greatest number is\", greatest)"
   ]
  },
  {
   "cell_type": "markdown",
   "id": "b820f6c3",
   "metadata": {},
   "source": [
    "#### Write a program to enter three numbers and print the smallest number."
   ]
  },
  {
   "cell_type": "code",
   "execution_count": 6,
   "id": "c2921f86",
   "metadata": {},
   "outputs": [
    {
     "name": "stdout",
     "output_type": "stream",
     "text": [
      "The smallest number is 29\n"
     ]
    }
   ],
   "source": [
    "num1=29\n",
    "num2=45\n",
    "num3=56\n",
    "if (num1<=num2)and (num1<=num3):\n",
    "    smallest=num1\n",
    "elif(num2<=num1)and (num1<=num3):\n",
    "    smallest=num2\n",
    "else:\n",
    "    smallest=num3\n",
    "print(\"The smallest number is\",smallest)    \n",
    "    \n"
   ]
  },
  {
   "cell_type": "markdown",
   "id": "0fdc374e",
   "metadata": {},
   "source": [
    "#### Write a program to calculate roots of quadratic equation."
   ]
  },
  {
   "cell_type": "code",
   "execution_count": 23,
   "id": "74157822",
   "metadata": {},
   "outputs": [
    {
     "name": "stdout",
     "output_type": "stream",
     "text": [
      "The solution are (-3+0j) and (-2+0j)\n"
     ]
    }
   ],
   "source": [
    "#ax**2 + bx + c= 0\n",
    "\n",
    "import cmath\n",
    "\n",
    "a = 1\n",
    "b = 5\n",
    "c = 6\n",
    "\n",
    "d = (b**2) - (4*a*c)\n",
    "\n",
    "\n",
    "sol1 = (-b-cmath.sqrt(d))/(2*a)\n",
    "sol2 = (-b+cmath.sqrt(d))/(2*a)\n",
    "\n",
    "print('The solution are {0} and {1}'.format(sol1,sol2))"
   ]
  },
  {
   "cell_type": "markdown",
   "id": "cb4b8e06",
   "metadata": {},
   "source": [
    "#### Write a program to enter a number between (1-7) and print the respective day of the week."
   ]
  },
  {
   "cell_type": "code",
   "execution_count": 1,
   "id": "e665fb62",
   "metadata": {},
   "outputs": [
    {
     "name": "stdout",
     "output_type": "stream",
     "text": [
      "Enter weekday day number (1-7) : 6\n",
      "Saturday\n"
     ]
    }
   ],
   "source": [
    "weekday = int(input(\"Enter weekday day number (1-7) : \"))\n",
    "\n",
    "if weekday == 1 :\n",
    "    print(\"Monday\");\n",
    "\n",
    "elif weekday == 2 :\n",
    "    print(\"Tuesday\")\n",
    "\n",
    "elif(weekday == 3) :\n",
    "    print(\"Wednesday\")\n",
    "\n",
    "elif(weekday == 4) :\n",
    "    print(\"Thursday\")\n",
    "\n",
    "elif(weekday == 5) :\n",
    "    print(\"Friday\")\n",
    "\n",
    "elif(weekday == 6) :\n",
    "    print(\"Saturday\")\n",
    "\n",
    "elif (weekday == 7) :\n",
    "    print(\"Sunday\")\n",
    "\n",
    "else :\n",
    "    print(\"Please enter weekday number between 1-7.\")"
   ]
  },
  {
   "cell_type": "markdown",
   "id": "902a0d61",
   "metadata": {},
   "source": [
    "#### Write a program to enter number between (1-12) and print respective month."
   ]
  },
  {
   "cell_type": "code",
   "execution_count": 26,
   "id": "2f7bcddc",
   "metadata": {},
   "outputs": [
    {
     "name": "stdout",
     "output_type": "stream",
     "text": [
      "Enter number between 1-12: 6\n",
      "The month corresponding to the number 6 is June\n"
     ]
    }
   ],
   "source": [
    "month_number=int(input(\"Enter number between 1-12: \"))\n",
    "\n",
    "months=[\"January\",\"February\",\"March\",\"April\",\"May\",\"June\",\"July\",\"August\",\"September\",\n",
    "       \"October\",\"November\",\"December\"] \n",
    "\n",
    "if month_number>=1 and month_number<=12:\n",
    "    month_name=months[month_number-1] \n",
    "    print(\"The month corresponding to the number\",month_number,\"is\",month_name)\n",
    "    \n",
    "else:\n",
    "    print(\"Invalid input\")"
   ]
  },
  {
   "cell_type": "markdown",
   "id": "841602db",
   "metadata": {},
   "source": [
    "#### Write a program to enter a number between(1-4) and perform "
   ]
  },
  {
   "cell_type": "markdown",
   "id": "3b1b15b4",
   "metadata": {},
   "source": [
    "#### Addition"
   ]
  },
  {
   "cell_type": "code",
   "execution_count": 3,
   "id": "d0f8563e",
   "metadata": {},
   "outputs": [
    {
     "name": "stdout",
     "output_type": "stream",
     "text": [
      "Addition 4\n"
     ]
    }
   ],
   "source": [
    "num1=3\n",
    "num2=1\n",
    "addition=num1+num2\n",
    "print(\"Addition\",addition)\n",
    "     "
   ]
  },
  {
   "cell_type": "markdown",
   "id": "6d81ba5e",
   "metadata": {},
   "source": [
    "#### Subtraction"
   ]
  },
  {
   "cell_type": "code",
   "execution_count": 4,
   "id": "cc08883d",
   "metadata": {},
   "outputs": [
    {
     "name": "stdout",
     "output_type": "stream",
     "text": [
      "Subtraction 3\n"
     ]
    }
   ],
   "source": [
    "num1=4\n",
    "num2=1\n",
    "subtraction=num1-num2\n",
    "print(\"Subtraction\",subtraction)"
   ]
  },
  {
   "cell_type": "markdown",
   "id": "a69849fc",
   "metadata": {},
   "source": [
    "#### Multiplication"
   ]
  },
  {
   "cell_type": "code",
   "execution_count": 5,
   "id": "088ffcde",
   "metadata": {},
   "outputs": [
    {
     "name": "stdout",
     "output_type": "stream",
     "text": [
      "Multiplication 8\n"
     ]
    }
   ],
   "source": [
    "num1=2\n",
    "num2=4\n",
    "multiplication=num1*num2\n",
    "print(\"Multiplication\",multiplication)"
   ]
  },
  {
   "cell_type": "markdown",
   "id": "5133aaba",
   "metadata": {},
   "source": [
    "#### Division"
   ]
  },
  {
   "cell_type": "code",
   "execution_count": 6,
   "id": "09f5fe97",
   "metadata": {},
   "outputs": [
    {
     "name": "stdout",
     "output_type": "stream",
     "text": [
      "Division 2.0\n"
     ]
    }
   ],
   "source": [
    "num1=4\n",
    "num2=2\n",
    "division=num1/num2\n",
    "print(\"Division\",division)"
   ]
  },
  {
   "cell_type": "markdown",
   "id": "31536821",
   "metadata": {},
   "source": [
    "#### Write a program to convert temperatures to and from celsius, Fahrenheit."
   ]
  },
  {
   "cell_type": "code",
   "execution_count": 7,
   "id": "73312645",
   "metadata": {},
   "outputs": [
    {
     "name": "stdout",
     "output_type": "stream",
     "text": [
      "enter Temperature38\n",
      "Enter unit('C' for Celsius or 'F' for Fahrenheit)C\n",
      "Temperature in Fahrenheit = 100.4\n"
     ]
    }
   ],
   "source": [
    "temp=float (input(\"enter Temperature\"))\n",
    "unit=input(\"Enter unit('C' for Celsius or 'F' for Fahrenheit)\")\n",
    "if unit=='C' or unit=='c':\n",
    "    newTemp=9/5*temp+32\n",
    "    print(\"Temperature in Fahrenheit =\", newTemp)\n",
    "elif unit=='F' or unit=='f':\n",
    "    newTemp=5/9*(temp-32)\n",
    "    print(\"Temperature in Celsius=\", newTemp)\n",
    "else:\n",
    "    print(\"Unknown unit\",unit)"
   ]
  },
  {
   "cell_type": "markdown",
   "id": "dc0cc817",
   "metadata": {},
   "source": [
    "### A company decided to give bonus of 5% to employee if his/her year of service is more than 5 years. Ask user for their salary and year of service and print the net bonus amount."
   ]
  },
  {
   "cell_type": "code",
   "execution_count": 3,
   "id": "5d5a5a51",
   "metadata": {},
   "outputs": [
    {
     "name": "stdout",
     "output_type": "stream",
     "text": [
      "Enter your salary: 45000\n",
      "Enter your years of service: 60\n",
      "Congratulations! You qualify for a bonus of $2250.00.\n"
     ]
    }
   ],
   "source": [
    "salary = float(input(\"Enter your salary: \"))\n",
    "years_of_service = int(input(\"Enter your years of service: \"))\n",
    "\n",
    "if years_of_service > 5:\n",
    "    bonus = salary * 0.05\n",
    "    print(\"Congratulations! You qualify for a bonus of ${:.2f}.\".format(bonus))\n",
    "else:\n",
    "    print(\"Sorry, you do not qualify for a bonus.\")"
   ]
  },
  {
   "cell_type": "markdown",
   "id": "f1ddd4db",
   "metadata": {},
   "source": [
    "#### Write a program to take input of length and breadth of a rectangle from user and check if it is square or not."
   ]
  },
  {
   "cell_type": "code",
   "execution_count": 4,
   "id": "8eef7247",
   "metadata": {},
   "outputs": [
    {
     "name": "stdout",
     "output_type": "stream",
     "text": [
      "Enter length of rectangle: 34\n",
      "Enter width of rectangle: 32\n",
      "The rectangle is not a square.\n"
     ]
    }
   ],
   "source": [
    "length = float(input(\"Enter length of rectangle: \"))\n",
    "width = float(input(\"Enter width of rectangle: \"))\n",
    "\n",
    "if length == width:\n",
    "    print(\"The rectangle is a square.\")\n",
    "else:\n",
    "    print(\"The rectangle is not a square.\")"
   ]
  },
  {
   "cell_type": "markdown",
   "id": "41862a7a",
   "metadata": {},
   "source": [
    "#### Take input of age of 3 people by user and determine oldest and youngest among them."
   ]
  },
  {
   "cell_type": "code",
   "execution_count": 5,
   "id": "3ffe1f9f",
   "metadata": {},
   "outputs": [
    {
     "name": "stdout",
     "output_type": "stream",
     "text": [
      "Enter age of first person: 56\n",
      "Enter age of second person: 34\n",
      "Enter age of third person: 89\n",
      "The oldest person is 89 years old.\n",
      "The youngest person is 34 years old.\n"
     ]
    }
   ],
   "source": [
    "age1 = int(input(\"Enter age of first person: \"))\n",
    "age2 = int(input(\"Enter age of second person: \"))\n",
    "age3 = int(input(\"Enter age of third person: \"))\n",
    "\n",
    "\n",
    "oldest = max(age1, age2, age3)\n",
    "youngest = min(age1, age2, age3)\n",
    "\n",
    "\n",
    "print(\"The oldest person is {} years old.\".format(oldest))\n",
    "print(\"The youngest person is {} years old.\".format(youngest))"
   ]
  },
  {
   "cell_type": "markdown",
   "id": "f9f2bfc8",
   "metadata": {},
   "source": [
    "#### A school has following rules for grading system:a.Below 25-F, b.25 to 45-E, c.45 to 50-D , d.50 to 60-C, e. 60 to 80-B, f.Above 80-A Ask user to enter marks and print the corresponding grade.\n"
   ]
  },
  {
   "cell_type": "code",
   "execution_count": 7,
   "id": "07af7b26",
   "metadata": {},
   "outputs": [
    {
     "name": "stdout",
     "output_type": "stream",
     "text": [
      "Enter your marks: 67\n",
      "Your grade is B.\n"
     ]
    }
   ],
   "source": [
    "marks = float(input(\"Enter your marks: \"))\n",
    "\n",
    "\n",
    "if marks < 25:\n",
    "    grade = \"F\"\n",
    "elif marks < 45:\n",
    "    grade = \"E\"\n",
    "elif marks < 50:\n",
    "    grade = \"D\"\n",
    "elif marks < 60:\n",
    "    grade = \"C\"\n",
    "elif marks < 80:\n",
    "    grade = \"B\"\n",
    "else:\n",
    "    grade = \"A\"\n",
    "\n",
    "\n",
    "print(\"Your grade is {}.\".format(grade))"
   ]
  },
  {
   "cell_type": "code",
   "execution_count": null,
   "id": "ddedffe4",
   "metadata": {},
   "outputs": [],
   "source": []
  }
 ],
 "metadata": {
  "kernelspec": {
   "display_name": "Python 3 (ipykernel)",
   "language": "python",
   "name": "python3"
  },
  "language_info": {
   "codemirror_mode": {
    "name": "ipython",
    "version": 3
   },
   "file_extension": ".py",
   "mimetype": "text/x-python",
   "name": "python",
   "nbconvert_exporter": "python",
   "pygments_lexer": "ipython3",
   "version": "3.9.13"
  }
 },
 "nbformat": 4,
 "nbformat_minor": 5
}
