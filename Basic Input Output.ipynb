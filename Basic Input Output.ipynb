{
 "cells": [
  {
   "cell_type": "markdown",
   "id": "d1a77335",
   "metadata": {},
   "source": [
    "#### Write a program to print yourself introduction"
   ]
  },
  {
   "cell_type": "code",
   "execution_count": 5,
   "id": "5bdfe5df",
   "metadata": {},
   "outputs": [
    {
     "name": "stdout",
     "output_type": "stream",
     "text": [
      "Enter your name Diksha Rajrndra Lonare\n",
      "Enter your location Nagpur,Maharashtra,\n",
      "enter your education BE Computer Science in 2018,\n",
      "enter your hobbies Travelling.\n",
      "Introduction Diksha Rajrndra Lonare Nagpur,Maharashtra, BE Computer Science in 2018, Travelling.\n"
     ]
    }
   ],
   "source": [
    "name=input(\"Enter your name \")\n",
    "place=input(\"Enter your location \")\n",
    "study=input(\"enter your education \")\n",
    "hobbies=input(\"enter your hobbies \")\n",
    "print( \"Introduction\",name,place,study,hobbies )"
   ]
  },
  {
   "cell_type": "markdown",
   "id": "cacb7dd2",
   "metadata": {},
   "source": [
    "#### Write a program to perform the following operations"
   ]
  },
  {
   "cell_type": "markdown",
   "id": "67b5863f",
   "metadata": {},
   "source": [
    "#### Addition"
   ]
  },
  {
   "cell_type": "code",
   "execution_count": 2,
   "id": "79208fe5",
   "metadata": {},
   "outputs": [
    {
     "name": "stdout",
     "output_type": "stream",
     "text": [
      "Enter frist number 57\n",
      "Enter second number 89\n",
      "Addition of two number 146\n"
     ]
    }
   ],
   "source": [
    "a=int(input(\"Enter frist number \"))\n",
    "b=int(input(\"Enter second number \"))\n",
    "c=a+b\n",
    "print('Addition of two number',c)"
   ]
  },
  {
   "cell_type": "markdown",
   "id": "2dbdc8e6",
   "metadata": {},
   "source": [
    "#### Subtraction"
   ]
  },
  {
   "cell_type": "code",
   "execution_count": 3,
   "id": "3f3839a2",
   "metadata": {},
   "outputs": [
    {
     "name": "stdout",
     "output_type": "stream",
     "text": [
      "Enter frist number 678\n",
      "Enter second number 245\n",
      "subtraction of two number 433\n"
     ]
    }
   ],
   "source": [
    "a=int(input(\"Enter frist number \"))\n",
    "b=int(input(\"Enter second number \"))\n",
    "c=a-b\n",
    "print('subtraction of two number',c)"
   ]
  },
  {
   "cell_type": "markdown",
   "id": "0f259ac8",
   "metadata": {},
   "source": [
    "#### Multiplication"
   ]
  },
  {
   "cell_type": "code",
   "execution_count": 4,
   "id": "ea234b06",
   "metadata": {},
   "outputs": [
    {
     "name": "stdout",
     "output_type": "stream",
     "text": [
      "Enter frist number 56\n",
      "Enter second number 8\n",
      "Multiplication of two number 448\n"
     ]
    }
   ],
   "source": [
    "a=int(input(\"Enter frist number \"))\n",
    "b=int(input(\"Enter second number \"))\n",
    "c=a*b\n",
    "print('Multiplication of two number',c)"
   ]
  },
  {
   "cell_type": "markdown",
   "id": "f2a5116e",
   "metadata": {},
   "source": [
    "#### Division"
   ]
  },
  {
   "cell_type": "code",
   "execution_count": 5,
   "id": "0be6caf9",
   "metadata": {},
   "outputs": [
    {
     "name": "stdout",
     "output_type": "stream",
     "text": [
      "Enter frist number 89\n",
      "Enter second number 3\n",
      "Division of two number 29.666666666666668\n"
     ]
    }
   ],
   "source": [
    "a=int(input(\"Enter frist number \"))\n",
    "b=int(input(\"Enter second number \"))\n",
    "c=a/b\n",
    "print('Division of two number',c)"
   ]
  },
  {
   "cell_type": "markdown",
   "id": "c691e9f8",
   "metadata": {},
   "source": [
    "#### Modulus"
   ]
  },
  {
   "cell_type": "code",
   "execution_count": 8,
   "id": "76dcc38a",
   "metadata": {},
   "outputs": [
    {
     "name": "stdout",
     "output_type": "stream",
     "text": [
      "percentage 1\n"
     ]
    }
   ],
   "source": [
    "a=7\n",
    "b=3\n",
    "c=a%b\n",
    "print('percentage',c)"
   ]
  },
  {
   "cell_type": "markdown",
   "id": "46785acb",
   "metadata": {},
   "source": [
    "####  Exponent"
   ]
  },
  {
   "cell_type": "code",
   "execution_count": 12,
   "id": "bea67a90",
   "metadata": {},
   "outputs": [
    {
     "name": "stdout",
     "output_type": "stream",
     "text": [
      "power 81\n"
     ]
    }
   ],
   "source": [
    "a=9\n",
    "a**2\n",
    "print('power',a**2)"
   ]
  },
  {
   "cell_type": "markdown",
   "id": "a370fb24",
   "metadata": {},
   "source": [
    "#### Write a program to swap two numbers"
   ]
  },
  {
   "cell_type": "code",
   "execution_count": 3,
   "id": "2dcd6ba7",
   "metadata": {},
   "outputs": [
    {
     "name": "stdout",
     "output_type": "stream",
     "text": [
      "The value of x after swapping 9\n",
      "The value of y after swapping 7\n"
     ]
    }
   ],
   "source": [
    "x=7\n",
    "y=9\n",
    "temp=x\n",
    "x=y\n",
    "y=temp\n",
    "print('The value of x after swapping',x)\n",
    "print('The value of y after swapping',y)"
   ]
  },
  {
   "cell_type": "markdown",
   "id": "38355984",
   "metadata": {},
   "source": [
    "#### Write a program to swap two numbers without using third variable."
   ]
  },
  {
   "cell_type": "code",
   "execution_count": 5,
   "id": "1fdae279",
   "metadata": {},
   "outputs": [
    {
     "name": "stdout",
     "output_type": "stream",
     "text": [
      "The value of x after swapping 12\n",
      "The value of y after swapping 10\n"
     ]
    }
   ],
   "source": [
    "x=10\n",
    "y=12\n",
    "x=x+y\n",
    "y=x-y\n",
    "x=x-y\n",
    "print('The value of x after swapping',x)\n",
    "print('The value of y after swapping',y)\n"
   ]
  },
  {
   "cell_type": "markdown",
   "id": "df84b4e3",
   "metadata": {},
   "source": [
    "#### Write a program to compute simple interest."
   ]
  },
  {
   "cell_type": "code",
   "execution_count": 2,
   "id": "46553c75",
   "metadata": {},
   "outputs": [
    {
     "name": "stdout",
     "output_type": "stream",
     "text": [
      "Enter principal 40\n",
      "Enter time 12\n",
      "Enter rate 10\n",
      "simple interest is 48.0\n"
     ]
    }
   ],
   "source": [
    "p=int(input(\"Enter principal \"))\n",
    "t=int(input(\"Enter time \"))\n",
    "r=int(input(\"Enter rate \"))\n",
    "SI=(p*t*r)/100\n",
    "print('simple interest is',SI)\n",
    "\n",
    "\n"
   ]
  },
  {
   "cell_type": "markdown",
   "id": "aa3f9785",
   "metadata": {},
   "source": [
    "#### Write a program to find average of five numbers by user input."
   ]
  },
  {
   "cell_type": "code",
   "execution_count": 3,
   "id": "a80d57c9",
   "metadata": {},
   "outputs": [
    {
     "name": "stdout",
     "output_type": "stream",
     "text": [
      "enter 1st number 7\n",
      "enter 2nd number 9\n",
      "enter 3rd number 4\n",
      "enter 4th number 10\n",
      "enter 5th number 19\n",
      "Average of 5 number 9.8\n"
     ]
    }
   ],
   "source": [
    "a=int(input(\"enter 1st number \"))\n",
    "b=int(input(\"enter 2nd number \"))\n",
    "c=int(input(\"enter 3rd number \"))\n",
    "d=int(input(\"enter 4th number \"))\n",
    "e=int(input(\"enter 5th number \"))\n",
    "avg=(a+b+c+d+e)/5\n",
    "print('Average of 5 number',avg)"
   ]
  },
  {
   "cell_type": "markdown",
   "id": "d641d3b2",
   "metadata": {},
   "source": [
    "#### Write a program to calculate the discriminant of a quadratic equation."
   ]
  },
  {
   "cell_type": "code",
   "execution_count": 2,
   "id": "864e6b21",
   "metadata": {},
   "outputs": [
    {
     "name": "stdout",
     "output_type": "stream",
     "text": [
      "Enter coefficient of x^2: 12\n",
      "Enter coefficient of x: 4\n",
      "Enter constant6\n",
      "the discriminant is -272.0\n"
     ]
    }
   ],
   "source": [
    "a=float(input(\"Enter coefficient of x^2: \"))\n",
    "b=float(input(\"Enter coefficient of x: \"))\n",
    "c=float(input(\"Enter constant\"))\n",
    "\n",
    "discriminant=b**2-4*a*c\n",
    "\n",
    "print(\"the discriminant is\",discriminant)\n"
   ]
  },
  {
   "cell_type": "markdown",
   "id": "7b3d404a",
   "metadata": {},
   "source": [
    "#### Write a program to calculate the areas of the following shapes:"
   ]
  },
  {
   "cell_type": "markdown",
   "id": "74457a1b",
   "metadata": {},
   "source": [
    "#### Rectangle"
   ]
  },
  {
   "cell_type": "code",
   "execution_count": 11,
   "id": "24e5c994",
   "metadata": {},
   "outputs": [
    {
     "name": "stdout",
     "output_type": "stream",
     "text": [
      "Enter length 9\n",
      "Enter breadth 5\n",
      "Area of rectangle 45\n"
     ]
    }
   ],
   "source": [
    "l=int(input('Enter length '))\n",
    "b=int(input('Enter breadth '))\n",
    "area=l*b\n",
    "print('Area of rectangle',area)"
   ]
  },
  {
   "cell_type": "markdown",
   "id": "9fdab4e1",
   "metadata": {},
   "source": [
    "#### Square"
   ]
  },
  {
   "cell_type": "code",
   "execution_count": 13,
   "id": "c4d15833",
   "metadata": {},
   "outputs": [
    {
     "name": "stdout",
     "output_type": "stream",
     "text": [
      "Enter 1st side 7\n",
      "Enter 2nd side 4\n",
      "Area of square 28\n"
     ]
    }
   ],
   "source": [
    "a=int(input(\"Enter 1st side \"))\n",
    "b=int(input(\"Enter 2nd side \"))\n",
    "area=a*b\n",
    "print(\"Area of square\", area)"
   ]
  },
  {
   "cell_type": "markdown",
   "id": "102dcab7",
   "metadata": {},
   "source": [
    "#### Triangle"
   ]
  },
  {
   "cell_type": "code",
   "execution_count": 14,
   "id": "928d2730",
   "metadata": {},
   "outputs": [
    {
     "name": "stdout",
     "output_type": "stream",
     "text": [
      "Enter length 8\n",
      "Enter height 9\n",
      "Area of triangle 36.0\n"
     ]
    }
   ],
   "source": [
    "l=int(input(\"Enter length \"))\n",
    "h=int(input(\"Enter height \"))\n",
    "area=l*h*0.5\n",
    "print(\"Area of triangle\",area)"
   ]
  },
  {
   "cell_type": "markdown",
   "id": "c4842253",
   "metadata": {},
   "source": [
    "#### Circle"
   ]
  },
  {
   "cell_type": "code",
   "execution_count": 15,
   "id": "0c0128e2",
   "metadata": {},
   "outputs": [
    {
     "name": "stdout",
     "output_type": "stream",
     "text": [
      "Enter radius 8\n",
      "Area of circle 200.96\n"
     ]
    }
   ],
   "source": [
    "r=int(input(\"Enter radius \"))\n",
    "area=3.14*r*r\n",
    "print(\"Area of circle\",area)"
   ]
  },
  {
   "cell_type": "markdown",
   "id": "16828c24",
   "metadata": {},
   "source": [
    "#### Write a program to calculate net salary of an employee whose basic salary is entered by the user.DA is 5% of basic salary,HRA is7% of basic salary and PF is 3% of basic salary.\n",
    "      "
   ]
  },
  {
   "cell_type": "code",
   "execution_count": 3,
   "id": "e59c4312",
   "metadata": {},
   "outputs": [
    {
     "name": "stdout",
     "output_type": "stream",
     "text": [
      "enter basic salary 45000\n",
      "basic salary 45000\n",
      "da 2250\n",
      "hra 3150\n",
      "pf 1417\n",
      "net salary 50400\n"
     ]
    }
   ],
   "source": [
    "basic=int(input(\"enter basic salary \"))\n",
    "da=int(basic *0.05)\n",
    "hra=int(basic *0.07)\n",
    "pf=int((basic+da)*0.03)\n",
    "net=int(basic+da+hra)\n",
    "print(\"basic salary\", basic)\n",
    "print(\"da\",da)\n",
    "print(\"hra\",hra)\n",
    "print(\"pf\",pf)\n",
    "print(\"net salary\",net)"
   ]
  },
  {
   "cell_type": "markdown",
   "id": "4d7ad3d9",
   "metadata": {},
   "source": [
    "#### Write a program to calculate power of a number."
   ]
  },
  {
   "cell_type": "code",
   "execution_count": 17,
   "id": "8f8417f2",
   "metadata": {},
   "outputs": [
    {
     "name": "stdout",
     "output_type": "stream",
     "text": [
      "power 16\n"
     ]
    }
   ],
   "source": [
    "a=4\n",
    "b=2\n",
    "c=a**b\n",
    "print(\"power\",c)"
   ]
  },
  {
   "cell_type": "markdown",
   "id": "1a6c1558",
   "metadata": {},
   "source": [
    "#### Write a program to get the python version you are using."
   ]
  },
  {
   "cell_type": "code",
   "execution_count": 20,
   "id": "fc8906e5",
   "metadata": {},
   "outputs": [
    {
     "name": "stdout",
     "output_type": "stream",
     "text": [
      "python version\n",
      "3.9.13 (main, Aug 25 2022, 23:51:50) [MSC v.1916 64 bit (AMD64)]\n"
     ]
    }
   ],
   "source": [
    "import sys\n",
    "print(\"python version\")\n",
    "print(sys.version)\n"
   ]
  },
  {
   "cell_type": "code",
   "execution_count": null,
   "id": "b5441883",
   "metadata": {},
   "outputs": [],
   "source": []
  }
 ],
 "metadata": {
  "kernelspec": {
   "display_name": "Python 3 (ipykernel)",
   "language": "python",
   "name": "python3"
  },
  "language_info": {
   "codemirror_mode": {
    "name": "ipython",
    "version": 3
   },
   "file_extension": ".py",
   "mimetype": "text/x-python",
   "name": "python",
   "nbconvert_exporter": "python",
   "pygments_lexer": "ipython3",
   "version": "3.9.13"
  }
 },
 "nbformat": 4,
 "nbformat_minor": 5
}
